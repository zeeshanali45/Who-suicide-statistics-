{
 "cells": [
  {
   "cell_type": "code",
   "execution_count": 1,
   "metadata": {},
   "outputs": [],
   "source": [
    "# import libraries\n",
    "import pandas as pd\n",
    "import numpy as np\n",
    "import matplotlib.pyplot as plt\n",
    "import seaborn as sns\n",
    "from scipy import stats"
   ]
  },
  {
   "cell_type": "code",
   "execution_count": 3,
   "metadata": {},
   "outputs": [
    {
     "data": {
      "text/html": [
       "<div>\n",
       "<style scoped>\n",
       "    .dataframe tbody tr th:only-of-type {\n",
       "        vertical-align: middle;\n",
       "    }\n",
       "\n",
       "    .dataframe tbody tr th {\n",
       "        vertical-align: top;\n",
       "    }\n",
       "\n",
       "    .dataframe thead th {\n",
       "        text-align: right;\n",
       "    }\n",
       "</style>\n",
       "<table border=\"1\" class=\"dataframe\">\n",
       "  <thead>\n",
       "    <tr style=\"text-align: right;\">\n",
       "      <th></th>\n",
       "      <th>country</th>\n",
       "      <th>year</th>\n",
       "      <th>sex</th>\n",
       "      <th>age</th>\n",
       "      <th>suicides_no</th>\n",
       "      <th>population</th>\n",
       "    </tr>\n",
       "  </thead>\n",
       "  <tbody>\n",
       "    <tr>\n",
       "      <th>0</th>\n",
       "      <td>Albania</td>\n",
       "      <td>1985</td>\n",
       "      <td>female</td>\n",
       "      <td>15-24 years</td>\n",
       "      <td>NaN</td>\n",
       "      <td>277900.0</td>\n",
       "    </tr>\n",
       "    <tr>\n",
       "      <th>1</th>\n",
       "      <td>Albania</td>\n",
       "      <td>1985</td>\n",
       "      <td>female</td>\n",
       "      <td>25-34 years</td>\n",
       "      <td>NaN</td>\n",
       "      <td>246800.0</td>\n",
       "    </tr>\n",
       "    <tr>\n",
       "      <th>2</th>\n",
       "      <td>Albania</td>\n",
       "      <td>1985</td>\n",
       "      <td>female</td>\n",
       "      <td>35-54 years</td>\n",
       "      <td>NaN</td>\n",
       "      <td>267500.0</td>\n",
       "    </tr>\n",
       "    <tr>\n",
       "      <th>3</th>\n",
       "      <td>Albania</td>\n",
       "      <td>1985</td>\n",
       "      <td>female</td>\n",
       "      <td>5-14 years</td>\n",
       "      <td>NaN</td>\n",
       "      <td>298300.0</td>\n",
       "    </tr>\n",
       "    <tr>\n",
       "      <th>4</th>\n",
       "      <td>Albania</td>\n",
       "      <td>1985</td>\n",
       "      <td>female</td>\n",
       "      <td>55-74 years</td>\n",
       "      <td>NaN</td>\n",
       "      <td>138700.0</td>\n",
       "    </tr>\n",
       "  </tbody>\n",
       "</table>\n",
       "</div>"
      ],
      "text/plain": [
       "   country  year     sex          age  suicides_no  population\n",
       "0  Albania  1985  female  15-24 years          NaN    277900.0\n",
       "1  Albania  1985  female  25-34 years          NaN    246800.0\n",
       "2  Albania  1985  female  35-54 years          NaN    267500.0\n",
       "3  Albania  1985  female   5-14 years          NaN    298300.0\n",
       "4  Albania  1985  female  55-74 years          NaN    138700.0"
      ]
     },
     "execution_count": 3,
     "metadata": {},
     "output_type": "execute_result"
    }
   ],
   "source": [
    "# load dataset\n",
    "df = pd.read_csv(\"who_suicide_statistics.csv\")\n",
    "df.head()"
   ]
  },
  {
   "cell_type": "code",
   "execution_count": 4,
   "metadata": {},
   "outputs": [
    {
     "name": "stdout",
     "output_type": "stream",
     "text": [
      "<class 'pandas.core.frame.DataFrame'>\n",
      "RangeIndex: 43776 entries, 0 to 43775\n",
      "Data columns (total 6 columns):\n",
      " #   Column       Non-Null Count  Dtype  \n",
      "---  ------       --------------  -----  \n",
      " 0   country      43776 non-null  object \n",
      " 1   year         43776 non-null  int64  \n",
      " 2   sex          43776 non-null  object \n",
      " 3   age          43776 non-null  object \n",
      " 4   suicides_no  41520 non-null  float64\n",
      " 5   population   38316 non-null  float64\n",
      "dtypes: float64(2), int64(1), object(3)\n",
      "memory usage: 2.0+ MB\n"
     ]
    }
   ],
   "source": [
    "df.info()"
   ]
  },
  {
   "cell_type": "code",
   "execution_count": 7,
   "metadata": {},
   "outputs": [
    {
     "data": {
      "text/plain": [
       "(43776, 6)"
      ]
     },
     "execution_count": 7,
     "metadata": {},
     "output_type": "execute_result"
    }
   ],
   "source": [
    "df.shape"
   ]
  },
  {
   "cell_type": "code",
   "execution_count": 9,
   "metadata": {},
   "outputs": [
    {
     "data": {
      "text/plain": [
       "country         object\n",
       "year             int64\n",
       "sex             object\n",
       "age             object\n",
       "suicides_no    float64\n",
       "population     float64\n",
       "dtype: object"
      ]
     },
     "execution_count": 9,
     "metadata": {},
     "output_type": "execute_result"
    }
   ],
   "source": [
    "df.dtypes"
   ]
  },
  {
   "cell_type": "code",
   "execution_count": 10,
   "metadata": {},
   "outputs": [
    {
     "data": {
      "text/html": [
       "<div>\n",
       "<style scoped>\n",
       "    .dataframe tbody tr th:only-of-type {\n",
       "        vertical-align: middle;\n",
       "    }\n",
       "\n",
       "    .dataframe tbody tr th {\n",
       "        vertical-align: top;\n",
       "    }\n",
       "\n",
       "    .dataframe thead th {\n",
       "        text-align: right;\n",
       "    }\n",
       "</style>\n",
       "<table border=\"1\" class=\"dataframe\">\n",
       "  <thead>\n",
       "    <tr style=\"text-align: right;\">\n",
       "      <th></th>\n",
       "      <th>year</th>\n",
       "      <th>suicides_no</th>\n",
       "      <th>population</th>\n",
       "    </tr>\n",
       "  </thead>\n",
       "  <tbody>\n",
       "    <tr>\n",
       "      <th>count</th>\n",
       "      <td>43776.000000</td>\n",
       "      <td>41520.000000</td>\n",
       "      <td>3.831600e+04</td>\n",
       "    </tr>\n",
       "    <tr>\n",
       "      <th>mean</th>\n",
       "      <td>1998.502467</td>\n",
       "      <td>193.315390</td>\n",
       "      <td>1.664091e+06</td>\n",
       "    </tr>\n",
       "    <tr>\n",
       "      <th>std</th>\n",
       "      <td>10.338711</td>\n",
       "      <td>800.589926</td>\n",
       "      <td>3.647231e+06</td>\n",
       "    </tr>\n",
       "    <tr>\n",
       "      <th>min</th>\n",
       "      <td>1979.000000</td>\n",
       "      <td>0.000000</td>\n",
       "      <td>2.590000e+02</td>\n",
       "    </tr>\n",
       "    <tr>\n",
       "      <th>25%</th>\n",
       "      <td>1990.000000</td>\n",
       "      <td>1.000000</td>\n",
       "      <td>8.511275e+04</td>\n",
       "    </tr>\n",
       "    <tr>\n",
       "      <th>50%</th>\n",
       "      <td>1999.000000</td>\n",
       "      <td>14.000000</td>\n",
       "      <td>3.806550e+05</td>\n",
       "    </tr>\n",
       "    <tr>\n",
       "      <th>75%</th>\n",
       "      <td>2007.000000</td>\n",
       "      <td>91.000000</td>\n",
       "      <td>1.305698e+06</td>\n",
       "    </tr>\n",
       "    <tr>\n",
       "      <th>max</th>\n",
       "      <td>2016.000000</td>\n",
       "      <td>22338.000000</td>\n",
       "      <td>4.380521e+07</td>\n",
       "    </tr>\n",
       "  </tbody>\n",
       "</table>\n",
       "</div>"
      ],
      "text/plain": [
       "               year   suicides_no    population\n",
       "count  43776.000000  41520.000000  3.831600e+04\n",
       "mean    1998.502467    193.315390  1.664091e+06\n",
       "std       10.338711    800.589926  3.647231e+06\n",
       "min     1979.000000      0.000000  2.590000e+02\n",
       "25%     1990.000000      1.000000  8.511275e+04\n",
       "50%     1999.000000     14.000000  3.806550e+05\n",
       "75%     2007.000000     91.000000  1.305698e+06\n",
       "max     2016.000000  22338.000000  4.380521e+07"
      ]
     },
     "execution_count": 10,
     "metadata": {},
     "output_type": "execute_result"
    }
   ],
   "source": [
    "df.describe()"
   ]
  },
  {
   "cell_type": "code",
   "execution_count": 11,
   "metadata": {},
   "outputs": [
    {
     "data": {
      "text/plain": [
       "country           0\n",
       "year              0\n",
       "sex               0\n",
       "age               0\n",
       "suicides_no    2256\n",
       "population     5460\n",
       "dtype: int64"
      ]
     },
     "execution_count": 11,
     "metadata": {},
     "output_type": "execute_result"
    }
   ],
   "source": [
    "df.isnull().sum()"
   ]
  },
  {
   "cell_type": "code",
   "execution_count": 12,
   "metadata": {},
   "outputs": [
    {
     "name": "stderr",
     "output_type": "stream",
     "text": [
      "C:\\Users\\khanu\\AppData\\Local\\Temp\\ipykernel_22168\\3447323661.py:1: FutureWarning: A value is trying to be set on a copy of a DataFrame or Series through chained assignment using an inplace method.\n",
      "The behavior will change in pandas 3.0. This inplace method will never work because the intermediate object on which we are setting values always behaves as a copy.\n",
      "\n",
      "For example, when doing 'df[col].method(value, inplace=True)', try using 'df.method({col: value}, inplace=True)' or df[col] = df[col].method(value) instead, to perform the operation inplace on the original object.\n",
      "\n",
      "\n",
      "  df['suicides_no'].fillna(df['suicides_no'].median(), inplace=True)\n",
      "C:\\Users\\khanu\\AppData\\Local\\Temp\\ipykernel_22168\\3447323661.py:2: FutureWarning: A value is trying to be set on a copy of a DataFrame or Series through chained assignment using an inplace method.\n",
      "The behavior will change in pandas 3.0. This inplace method will never work because the intermediate object on which we are setting values always behaves as a copy.\n",
      "\n",
      "For example, when doing 'df[col].method(value, inplace=True)', try using 'df.method({col: value}, inplace=True)' or df[col] = df[col].method(value) instead, to perform the operation inplace on the original object.\n",
      "\n",
      "\n",
      "  df['population'].fillna(df['population'].median(), inplace=True)\n"
     ]
    }
   ],
   "source": [
    "df['suicides_no'].fillna(df['suicides_no'].median(), inplace=True)\n",
    "df['population'].fillna(df['population'].median(), inplace=True)\n"
   ]
  },
  {
   "cell_type": "code",
   "execution_count": 14,
   "metadata": {},
   "outputs": [
    {
     "data": {
      "text/plain": [
       "0"
      ]
     },
     "execution_count": 14,
     "metadata": {},
     "output_type": "execute_result"
    }
   ],
   "source": [
    "df.isnull().sum().sum()"
   ]
  },
  {
   "cell_type": "code",
   "execution_count": 18,
   "metadata": {},
   "outputs": [
    {
     "data": {
      "text/html": [
       "<div>\n",
       "<style scoped>\n",
       "    .dataframe tbody tr th:only-of-type {\n",
       "        vertical-align: middle;\n",
       "    }\n",
       "\n",
       "    .dataframe tbody tr th {\n",
       "        vertical-align: top;\n",
       "    }\n",
       "\n",
       "    .dataframe thead th {\n",
       "        text-align: right;\n",
       "    }\n",
       "</style>\n",
       "<table border=\"1\" class=\"dataframe\">\n",
       "  <thead>\n",
       "    <tr style=\"text-align: right;\">\n",
       "      <th></th>\n",
       "      <th>country</th>\n",
       "      <th>year</th>\n",
       "      <th>sex</th>\n",
       "      <th>age</th>\n",
       "      <th>suicides_no</th>\n",
       "      <th>population</th>\n",
       "    </tr>\n",
       "  </thead>\n",
       "  <tbody>\n",
       "    <tr>\n",
       "      <th>0</th>\n",
       "      <td>Albania</td>\n",
       "      <td>1985</td>\n",
       "      <td>female</td>\n",
       "      <td>15-24 years</td>\n",
       "      <td>14.0</td>\n",
       "      <td>277900.0</td>\n",
       "    </tr>\n",
       "    <tr>\n",
       "      <th>1</th>\n",
       "      <td>Albania</td>\n",
       "      <td>1985</td>\n",
       "      <td>female</td>\n",
       "      <td>25-34 years</td>\n",
       "      <td>14.0</td>\n",
       "      <td>246800.0</td>\n",
       "    </tr>\n",
       "    <tr>\n",
       "      <th>2</th>\n",
       "      <td>Albania</td>\n",
       "      <td>1985</td>\n",
       "      <td>female</td>\n",
       "      <td>35-54 years</td>\n",
       "      <td>14.0</td>\n",
       "      <td>267500.0</td>\n",
       "    </tr>\n",
       "    <tr>\n",
       "      <th>3</th>\n",
       "      <td>Albania</td>\n",
       "      <td>1985</td>\n",
       "      <td>female</td>\n",
       "      <td>5-14 years</td>\n",
       "      <td>14.0</td>\n",
       "      <td>298300.0</td>\n",
       "    </tr>\n",
       "    <tr>\n",
       "      <th>4</th>\n",
       "      <td>Albania</td>\n",
       "      <td>1985</td>\n",
       "      <td>female</td>\n",
       "      <td>55-74 years</td>\n",
       "      <td>14.0</td>\n",
       "      <td>138700.0</td>\n",
       "    </tr>\n",
       "    <tr>\n",
       "      <th>5</th>\n",
       "      <td>Albania</td>\n",
       "      <td>1985</td>\n",
       "      <td>female</td>\n",
       "      <td>75+ years</td>\n",
       "      <td>14.0</td>\n",
       "      <td>34200.0</td>\n",
       "    </tr>\n",
       "    <tr>\n",
       "      <th>6</th>\n",
       "      <td>Albania</td>\n",
       "      <td>1985</td>\n",
       "      <td>male</td>\n",
       "      <td>15-24 years</td>\n",
       "      <td>14.0</td>\n",
       "      <td>301400.0</td>\n",
       "    </tr>\n",
       "    <tr>\n",
       "      <th>7</th>\n",
       "      <td>Albania</td>\n",
       "      <td>1985</td>\n",
       "      <td>male</td>\n",
       "      <td>25-34 years</td>\n",
       "      <td>14.0</td>\n",
       "      <td>264200.0</td>\n",
       "    </tr>\n",
       "    <tr>\n",
       "      <th>8</th>\n",
       "      <td>Albania</td>\n",
       "      <td>1985</td>\n",
       "      <td>male</td>\n",
       "      <td>35-54 years</td>\n",
       "      <td>14.0</td>\n",
       "      <td>296700.0</td>\n",
       "    </tr>\n",
       "    <tr>\n",
       "      <th>9</th>\n",
       "      <td>Albania</td>\n",
       "      <td>1985</td>\n",
       "      <td>male</td>\n",
       "      <td>5-14 years</td>\n",
       "      <td>14.0</td>\n",
       "      <td>325800.0</td>\n",
       "    </tr>\n",
       "  </tbody>\n",
       "</table>\n",
       "</div>"
      ],
      "text/plain": [
       "   country  year     sex          age  suicides_no  population\n",
       "0  Albania  1985  female  15-24 years         14.0    277900.0\n",
       "1  Albania  1985  female  25-34 years         14.0    246800.0\n",
       "2  Albania  1985  female  35-54 years         14.0    267500.0\n",
       "3  Albania  1985  female   5-14 years         14.0    298300.0\n",
       "4  Albania  1985  female  55-74 years         14.0    138700.0\n",
       "5  Albania  1985  female    75+ years         14.0     34200.0\n",
       "6  Albania  1985    male  15-24 years         14.0    301400.0\n",
       "7  Albania  1985    male  25-34 years         14.0    264200.0\n",
       "8  Albania  1985    male  35-54 years         14.0    296700.0\n",
       "9  Albania  1985    male   5-14 years         14.0    325800.0"
      ]
     },
     "execution_count": 18,
     "metadata": {},
     "output_type": "execute_result"
    }
   ],
   "source": [
    "df.head(10)"
   ]
  },
  {
   "cell_type": "code",
   "execution_count": 62,
   "metadata": {},
   "outputs": [
    {
     "data": {
      "text/plain": [
       "141"
      ]
     },
     "execution_count": 62,
     "metadata": {},
     "output_type": "execute_result"
    }
   ],
   "source": [
    "df['country'].nunique()"
   ]
  },
  {
   "cell_type": "code",
   "execution_count": 22,
   "metadata": {},
   "outputs": [
    {
     "data": {
      "text/plain": [
       "2231"
      ]
     },
     "execution_count": 22,
     "metadata": {},
     "output_type": "execute_result"
    }
   ],
   "source": [
    "df['suicides_no'].nunique()"
   ]
  },
  {
   "cell_type": "code",
   "execution_count": 55,
   "metadata": {},
   "outputs": [
    {
     "name": "stdout",
     "output_type": "stream",
     "text": [
      "Total number of all living people: 65839692243.0\n"
     ]
    }
   ],
   "source": [
    "# Calculate total population (sum of the population column)\n",
    "total_population = df['population'].sum()\n",
    "\n",
    "# Display the result\n",
    "print(f'Total number of all living people: {total_population}')\n",
    "\n"
   ]
  },
  {
   "cell_type": "code",
   "execution_count": 59,
   "metadata": {},
   "outputs": [
    {
     "data": {
      "image/png": "[encoded data removed]",
      "text/plain": [
       "<Figure size 1000x600 with 1 Axes>"
      ]
     },
     "metadata": {},
     "output_type": "display_data"
    }
   ],
   "source": [
    "# Group by year and sum the population\n",
    "population_by_year = df.groupby('year')['population'].sum()\n",
    "\n",
    "# Plot the total population over time\n",
    "plt.figure(figsize=(10, 6))\n",
    "plt.plot(population_by_year.index, population_by_year.values, color='blue', marker='o')\n",
    "plt.xlabel('Year')\n",
    "plt.ylabel('Total Population')\n",
    "plt.title('Total Population Over Time')\n",
    "plt.grid(True)\n",
    "plt.show()\n",
    "\n"
   ]
  },
  {
   "cell_type": "code",
   "execution_count": 16,
   "metadata": {},
   "outputs": [
    {
     "data": {
      "image/png": "[encoded data removed]",
      "text/plain": [
       "<Figure size 640x480 with 1 Axes>"
      ]
     },
     "metadata": {},
     "output_type": "display_data"
    }
   ],
   "source": [
    "df.groupby('year')['suicides_no'].sum().plot(kind='line', title='Suicides Over the Years')\n",
    "plt.show()\n"
   ]
  },
  {
   "cell_type": "markdown",
   "metadata": {},
   "source": [
    "# The number of suicides appears to have increased steadily from 1980 to 2000."
   ]
  },
  {
   "cell_type": "code",
   "execution_count": 17,
   "metadata": {},
   "outputs": [
    {
     "data": {
      "text/plain": [
       "array(['country', 'year', 'sex', 'age', 'suicides_no', 'population'],\n",
       "      dtype=object)"
      ]
     },
     "execution_count": 17,
     "metadata": {},
     "output_type": "execute_result"
    }
   ],
   "source": [
    "df.columns.values"
   ]
  },
  {
   "cell_type": "code",
   "execution_count": 28,
   "metadata": {},
   "outputs": [
    {
     "data": {
      "image/png": "[encoded data removed]",
      "text/plain": [
       "<Figure size 640x480 with 1 Axes>"
      ]
     },
     "metadata": {},
     "output_type": "display_data"
    }
   ],
   "source": [
    "ax = df.groupby('sex')['suicides_no'].sum().plot(kind='bar', title='Suicides by Gender')\n",
    "ax.bar_label(ax.containers[0])\n",
    "plt.show()\n"
   ]
  },
  {
   "cell_type": "markdown",
   "metadata": {},
   "source": [
    "## The chart clearly indicates that males have significantly higher suicide rates compared to females"
   ]
  },
  {
   "cell_type": "code",
   "execution_count": 30,
   "metadata": {},
   "outputs": [
    {
     "data": {
      "image/png": "[encoded data removed]",
      "text/plain": [
       "<Figure size 640x480 with 1 Axes>"
      ]
     },
     "metadata": {},
     "output_type": "display_data"
    }
   ],
   "source": [
    "ax = df.groupby('age')['suicides_no'].sum().plot(kind='bar', title='Suicides by Age Group')\n",
    "ax.bar_label(ax.containers[0])\n",
    "plt.show()\n"
   ]
  },
  {
   "cell_type": "markdown",
   "metadata": {},
   "source": [
    "## The 35-54 age group exhibits the highest number of suicides, significantly surpassing other age groups."
   ]
  },
  {
   "cell_type": "code",
   "execution_count": 48,
   "metadata": {},
   "outputs": [
    {
     "data": {
      "image/png": "[encoded data removed]",
      "text/plain": [
       "<Figure size 640x480 with 1 Axes>"
      ]
     },
     "metadata": {},
     "output_type": "display_data"
    }
   ],
   "source": [
    "# Calculate the total number of suicides\n",
    "total_suicides = df['suicides_no'].sum()\n",
    "\n",
    "# Get the top 10 countries\n",
    "top_countries = df.groupby('country')['suicides_no'].sum().nlargest(10)\n",
    "\n",
    "# Calculate percentages for each country\n",
    "percentages = (top_countries / total_suicides) * 100\n",
    "\n",
    "# Create the bar chart with percentages as labels\n",
    "ax = percentages.plot(kind='bar', title='Top 10 Countries by Suicides (Percentage)')\n",
    "ax.bar_label(ax.containers[0])\n",
    "plt.show()\n"
   ]
  },
  {
   "cell_type": "markdown",
   "metadata": {},
   "source": [
    "### The Russian Federation accounts for the highest percentage of `18.6314` global suicides, significantly outpacing other countries.\n",
    "\n"
   ]
  },
  {
   "cell_type": "code",
   "execution_count": 37,
   "metadata": {},
   "outputs": [
    {
     "data": {
      "text/plain": [
       "age\n",
       "15-24 years    135.629249\n",
       "25-34 years    188.130071\n",
       "35-54 years    397.567434\n",
       "5-14 years       9.399123\n",
       "55-74 years    269.151864\n",
       "75+ years      104.568394\n",
       "Name: suicides_no, dtype: float64"
      ]
     },
     "execution_count": 37,
     "metadata": {},
     "output_type": "execute_result"
    }
   ],
   "source": [
    "df.groupby('sex')['suicides_no'].mean()  # Mean suicides by gender\n",
    "df.groupby('age')['suicides_no'].mean()  # Mean suicides by age group\n"
   ]
  },
  {
   "cell_type": "markdown",
   "metadata": {},
   "source": [
    "# This distribution suggests that middle-aged adults `(35-54 years)` experience the `highest average suicide rates`, while younger children `(5-14 years)` have significantly `lower rates`."
   ]
  },
  {
   "cell_type": "markdown",
   "metadata": {},
   "source": []
  },
  {
   "cell_type": "code",
   "execution_count": 38,
   "metadata": {},
   "outputs": [
    {
     "data": {
      "text/html": [
       "<div>\n",
       "<style scoped>\n",
       "    .dataframe tbody tr th:only-of-type {\n",
       "        vertical-align: middle;\n",
       "    }\n",
       "\n",
       "    .dataframe tbody tr th {\n",
       "        vertical-align: top;\n",
       "    }\n",
       "\n",
       "    .dataframe thead th {\n",
       "        text-align: right;\n",
       "    }\n",
       "</style>\n",
       "<table border=\"1\" class=\"dataframe\">\n",
       "  <thead>\n",
       "    <tr style=\"text-align: right;\">\n",
       "      <th></th>\n",
       "      <th>suicides_no</th>\n",
       "      <th>population</th>\n",
       "    </tr>\n",
       "  </thead>\n",
       "  <tbody>\n",
       "    <tr>\n",
       "      <th>suicides_no</th>\n",
       "      <td>1.000000</td>\n",
       "      <td>0.884321</td>\n",
       "    </tr>\n",
       "    <tr>\n",
       "      <th>population</th>\n",
       "      <td>0.884321</td>\n",
       "      <td>1.000000</td>\n",
       "    </tr>\n",
       "  </tbody>\n",
       "</table>\n",
       "</div>"
      ],
      "text/plain": [
       "             suicides_no  population\n",
       "suicides_no     1.000000    0.884321\n",
       "population      0.884321    1.000000"
      ]
     },
     "execution_count": 38,
     "metadata": {},
     "output_type": "execute_result"
    }
   ],
   "source": [
    "df.groupby('year')[['suicides_no', 'population']].sum().corr()\n",
    "\n"
   ]
  },
  {
   "cell_type": "markdown",
   "metadata": {},
   "source": [
    "### The correlation analysis shows a strong positive correlation of **0.884** between the number of suicides and population size, indicating that higher populations tend to have more suicides. Both variables exhibit perfect self-correlation (**1.000**), confirming data integrity.\n",
    "\n",
    "This strong relationship suggests the need for targeted public health strategies to address mental health in larger populations."
   ]
  },
  {
   "cell_type": "markdown",
   "metadata": {},
   "source": [
    "# Hypothesis Testing\n",
    "T-test or ANOVA: Compare if the mean number of suicides is significantly different between genders, age groups, or countries. For example, you can test if there's a significant difference in suicide rates between males and females:"
   ]
  },
  {
   "cell_type": "code",
   "execution_count": 39,
   "metadata": {},
   "outputs": [
    {
     "data": {
      "text/plain": [
       "TtestResult(statistic=26.046202549158664, pvalue=2.0186462327517488e-148, df=43774.0)"
      ]
     },
     "execution_count": 39,
     "metadata": {},
     "output_type": "execute_result"
    }
   ],
   "source": [
    "male_suicides = df[df['sex'] == 'male']['suicides_no'].dropna()\n",
    "female_suicides = df[df['sex'] == 'female']['suicides_no'].dropna()\n",
    "\n",
    "stats.ttest_ind(male_suicides, female_suicides)\n"
   ]
  },
  {
   "cell_type": "markdown",
   "metadata": {},
   "source": [
    "# we reject the null hypothesis, meaning there is a statistically significant difference in the suicide rates between males and females."
   ]
  },
  {
   "cell_type": "code",
   "execution_count": 40,
   "metadata": {},
   "outputs": [
    {
     "data": {
      "text/plain": [
       "F_onewayResult(statistic=155.2407469920699, pvalue=1.1312751162144102e-67)"
      ]
     },
     "execution_count": 40,
     "metadata": {},
     "output_type": "execute_result"
    }
   ],
   "source": [
    "stats.f_oneway(\n",
    "    df[df['age'] == '15-24 years']['suicides_no'].dropna(),\n",
    "    df[df['age'] == '25-34 years']['suicides_no'].dropna(),\n",
    "    df[df['age'] == '35-54 years']['suicides_no'].dropna()\n",
    ")\n"
   ]
  },
  {
   "cell_type": "markdown",
   "metadata": {},
   "source": [
    "# we reject the null hypothesis. This means there is a statistically significant difference in the suicide rates across the different age groups."
   ]
  },
  {
   "cell_type": "code",
   "execution_count": 41,
   "metadata": {},
   "outputs": [
    {
     "data": {
      "text/plain": [
       "Chi2ContingencyResult(statistic=0.0, pvalue=1.0, dof=0, expected_freq=array([[21888.],\n",
       "       [21888.]]))"
      ]
     },
     "execution_count": 41,
     "metadata": {},
     "output_type": "execute_result"
    }
   ],
   "source": [
    "contingency_table = pd.crosstab(df['sex'], df['suicides_no'].notnull())\n",
    "stats.chi2_contingency(contingency_table)\n"
   ]
  },
  {
   "cell_type": "markdown",
   "metadata": {},
   "source": [
    "# according to this test, the distribution of suicides is not dependent on gender."
   ]
  },
  {
   "cell_type": "code",
   "execution_count": 42,
   "metadata": {},
   "outputs": [
    {
     "name": "stdout",
     "output_type": "stream",
     "text": [
      "[ 1.37760891e-04 -1.05114706e+00] 2077.6001220996195\n"
     ]
    }
   ],
   "source": [
    "from sklearn.linear_model import LinearRegression\n",
    "\n",
    "X = df[['population', 'year']]\n",
    "y = df['suicides_no']\n",
    "\n",
    "model = LinearRegression()\n",
    "model.fit(X, y)\n",
    "print(model.coef_, model.intercept_)\n"
   ]
  },
  {
   "cell_type": "markdown",
   "metadata": {},
   "source": [
    "# The linear regression analysis indicates that:\n",
    "\n",
    "- **Population** has a very small positive effect on the number of suicides, with a negligible increase per additional person.\n",
    "- **Year** shows a negative relationship, suggesting that the number of suicides decreases slightly over time, with approximately 1 fewer suicide per year.\n",
    "  \n",
    "The model suggests that while time has a noticeable impact on suicide rates, population size has a minimal influence.\n",
    "\n",
    "\n",
    "\n",
    "\n",
    "\n"
   ]
  },
  {
   "cell_type": "code",
   "execution_count": 44,
   "metadata": {},
   "outputs": [
    {
     "data": {
      "text/html": [
       "<div>\n",
       "<style scoped>\n",
       "    .dataframe tbody tr th:only-of-type {\n",
       "        vertical-align: middle;\n",
       "    }\n",
       "\n",
       "    .dataframe tbody tr th {\n",
       "        vertical-align: top;\n",
       "    }\n",
       "\n",
       "    .dataframe thead th {\n",
       "        text-align: right;\n",
       "    }\n",
       "</style>\n",
       "<table border=\"1\" class=\"dataframe\">\n",
       "  <thead>\n",
       "    <tr style=\"text-align: right;\">\n",
       "      <th></th>\n",
       "      <th>country</th>\n",
       "      <th>year</th>\n",
       "      <th>sex</th>\n",
       "      <th>age</th>\n",
       "      <th>suicides_no</th>\n",
       "      <th>population</th>\n",
       "      <th>suicide_rate_per_100k</th>\n",
       "    </tr>\n",
       "  </thead>\n",
       "  <tbody>\n",
       "    <tr>\n",
       "      <th>0</th>\n",
       "      <td>Albania</td>\n",
       "      <td>1985</td>\n",
       "      <td>female</td>\n",
       "      <td>15-24 years</td>\n",
       "      <td>14.0</td>\n",
       "      <td>277900.0</td>\n",
       "      <td>5.037783</td>\n",
       "    </tr>\n",
       "    <tr>\n",
       "      <th>1</th>\n",
       "      <td>Albania</td>\n",
       "      <td>1985</td>\n",
       "      <td>female</td>\n",
       "      <td>25-34 years</td>\n",
       "      <td>14.0</td>\n",
       "      <td>246800.0</td>\n",
       "      <td>5.672609</td>\n",
       "    </tr>\n",
       "    <tr>\n",
       "      <th>2</th>\n",
       "      <td>Albania</td>\n",
       "      <td>1985</td>\n",
       "      <td>female</td>\n",
       "      <td>35-54 years</td>\n",
       "      <td>14.0</td>\n",
       "      <td>267500.0</td>\n",
       "      <td>5.233645</td>\n",
       "    </tr>\n",
       "    <tr>\n",
       "      <th>3</th>\n",
       "      <td>Albania</td>\n",
       "      <td>1985</td>\n",
       "      <td>female</td>\n",
       "      <td>5-14 years</td>\n",
       "      <td>14.0</td>\n",
       "      <td>298300.0</td>\n",
       "      <td>4.693262</td>\n",
       "    </tr>\n",
       "    <tr>\n",
       "      <th>4</th>\n",
       "      <td>Albania</td>\n",
       "      <td>1985</td>\n",
       "      <td>female</td>\n",
       "      <td>55-74 years</td>\n",
       "      <td>14.0</td>\n",
       "      <td>138700.0</td>\n",
       "      <td>10.093727</td>\n",
       "    </tr>\n",
       "    <tr>\n",
       "      <th>...</th>\n",
       "      <td>...</td>\n",
       "      <td>...</td>\n",
       "      <td>...</td>\n",
       "      <td>...</td>\n",
       "      <td>...</td>\n",
       "      <td>...</td>\n",
       "      <td>...</td>\n",
       "    </tr>\n",
       "    <tr>\n",
       "      <th>43771</th>\n",
       "      <td>Zimbabwe</td>\n",
       "      <td>1990</td>\n",
       "      <td>male</td>\n",
       "      <td>25-34 years</td>\n",
       "      <td>150.0</td>\n",
       "      <td>380655.0</td>\n",
       "      <td>39.405761</td>\n",
       "    </tr>\n",
       "    <tr>\n",
       "      <th>43772</th>\n",
       "      <td>Zimbabwe</td>\n",
       "      <td>1990</td>\n",
       "      <td>male</td>\n",
       "      <td>35-54 years</td>\n",
       "      <td>132.0</td>\n",
       "      <td>380655.0</td>\n",
       "      <td>34.677070</td>\n",
       "    </tr>\n",
       "    <tr>\n",
       "      <th>43773</th>\n",
       "      <td>Zimbabwe</td>\n",
       "      <td>1990</td>\n",
       "      <td>male</td>\n",
       "      <td>5-14 years</td>\n",
       "      <td>6.0</td>\n",
       "      <td>380655.0</td>\n",
       "      <td>1.576230</td>\n",
       "    </tr>\n",
       "    <tr>\n",
       "      <th>43774</th>\n",
       "      <td>Zimbabwe</td>\n",
       "      <td>1990</td>\n",
       "      <td>male</td>\n",
       "      <td>55-74 years</td>\n",
       "      <td>74.0</td>\n",
       "      <td>380655.0</td>\n",
       "      <td>19.440175</td>\n",
       "    </tr>\n",
       "    <tr>\n",
       "      <th>43775</th>\n",
       "      <td>Zimbabwe</td>\n",
       "      <td>1990</td>\n",
       "      <td>male</td>\n",
       "      <td>75+ years</td>\n",
       "      <td>13.0</td>\n",
       "      <td>380655.0</td>\n",
       "      <td>3.415166</td>\n",
       "    </tr>\n",
       "  </tbody>\n",
       "</table>\n",
       "<p>43776 rows × 7 columns</p>\n",
       "</div>"
      ],
      "text/plain": [
       "        country  year     sex          age  suicides_no  population  \\\n",
       "0       Albania  1985  female  15-24 years         14.0    277900.0   \n",
       "1       Albania  1985  female  25-34 years         14.0    246800.0   \n",
       "2       Albania  1985  female  35-54 years         14.0    267500.0   \n",
       "3       Albania  1985  female   5-14 years         14.0    298300.0   \n",
       "4       Albania  1985  female  55-74 years         14.0    138700.0   \n",
       "...         ...   ...     ...          ...          ...         ...   \n",
       "43771  Zimbabwe  1990    male  25-34 years        150.0    380655.0   \n",
       "43772  Zimbabwe  1990    male  35-54 years        132.0    380655.0   \n",
       "43773  Zimbabwe  1990    male   5-14 years          6.0    380655.0   \n",
       "43774  Zimbabwe  1990    male  55-74 years         74.0    380655.0   \n",
       "43775  Zimbabwe  1990    male    75+ years         13.0    380655.0   \n",
       "\n",
       "       suicide_rate_per_100k  \n",
       "0                   5.037783  \n",
       "1                   5.672609  \n",
       "2                   5.233645  \n",
       "3                   4.693262  \n",
       "4                  10.093727  \n",
       "...                      ...  \n",
       "43771              39.405761  \n",
       "43772              34.677070  \n",
       "43773               1.576230  \n",
       "43774              19.440175  \n",
       "43775               3.415166  \n",
       "\n",
       "[43776 rows x 7 columns]"
      ]
     },
     "execution_count": 44,
     "metadata": {},
     "output_type": "execute_result"
    }
   ],
   "source": [
    "df['suicide_rate_per_100k'] = (df['suicides_no'] / df['population']) * 100000\n",
    "df"
   ]
  },
  {
   "cell_type": "markdown",
   "metadata": {},
   "source": [
    "# The **`suicide_rate_per_100k`** was calculated to standardize suicide rates across populations. Key findings:\n",
    "\n",
    "- Higher suicide rates are observed in smaller populations, especially among older age groups.\n",
    "- For example, in **Albania (1985)**, the **55-74 age group** shows a rate of **10.09 per 100,000**, while the **15-24 age group** has a lower rate of **5.04 per 100,000** despite the same number of suicides.\n",
    "- In **Zimbabwe (1990)**, the **25-34 male group** has a particularly high suicide rate of **39.41 per 100,000**.\n",
    "\n",
    "This standardization helps identify high-risk groups for targeted intervention."
   ]
  }
 ],
 "metadata": {
  "kernelspec": {
   "display_name": "Python 3",
   "language": "python",
   "name": "python3"
  },
  "language_info": {
   "codemirror_mode": {
    "name": "ipython",
    "version": 3
   },
   "file_extension": ".py",
   "mimetype": "text/x-python",
   "name": "python",
   "nbconvert_exporter": "python",
   "pygments_lexer": "ipython3",
   "version": "3.11.3"
  }
 },
 "nbformat": 4,
 "nbformat_minor": 2
}
